{
  "nbformat": 4,
  "nbformat_minor": 0,
  "metadata": {
    "colab": {
      "name": "mask-on.ipynb",
      "provenance": []
    },
    "kernelspec": {
      "name": "python3",
      "display_name": "Python 3"
    },
    "accelerator": "GPU"
  },
  "cells": [
    {
      "cell_type": "code",
      "metadata": {
        "id": "q79_sYv2UqiE"
      },
      "source": [
        "from tensorflow.keras.preprocessing.image import ImageDataGenerator\n",
        "from tensorflow.keras.preprocessing import image\n",
        "import tensorflow as tf\n",
        "import matplotlib.pyplot as plt\n",
        "import numpy as np\n",
        "import cv2\n",
        "import os"
      ],
      "execution_count": null,
      "outputs": []
    },
    {
      "cell_type": "code",
      "metadata": {
        "id": "yDuEKIlp0a_R"
      },
      "source": [
        "train=ImageDataGenerator(rescale=1/255)\n",
        "test=ImageDataGenerator(rescale=1/255)\n"
      ],
      "execution_count": null,
      "outputs": []
    },
    {
      "cell_type": "code",
      "metadata": {
        "colab": {
          "base_uri": "https://localhost:8080/"
        },
        "id": "KCoEBCCrrATi",
        "outputId": "48dec743-142f-426a-84c3-f17c7426182c"
      },
      "source": [
        "from google.colab import drive\n",
        "drive.mount('/content/gdrive')"
      ],
      "execution_count": null,
      "outputs": [
        {
          "output_type": "stream",
          "text": [
            "Drive already mounted at /content/gdrive; to attempt to forcibly remount, call drive.mount(\"/content/gdrive\", force_remount=True).\n"
          ],
          "name": "stdout"
        }
      ]
    },
    {
      "cell_type": "code",
      "metadata": {
        "colab": {
          "base_uri": "https://localhost:8080/"
        },
        "id": "ae2iVov91GNi",
        "outputId": "a5dfcc4b-0f57-4e89-bdef-75d3fd8eb7ba"
      },
      "source": [
        "\n",
        "train_dataset=train.flow_from_directory('/content/gdrive/MyDrive/train',target_size=(200,200),batch_size=50,class_mode='binary')\n",
        "validation_dataset=test.flow_from_directory(\"/content/gdrive/MyDrive/test\",target_size=(200,200),batch_size=50,class_mode='binary')\n"
      ],
      "execution_count": null,
      "outputs": [
        {
          "output_type": "stream",
          "text": [
            "Found 2056 images belonging to 2 classes.\n",
            "Found 1790 images belonging to 2 classes.\n"
          ],
          "name": "stdout"
        }
      ]
    },
    {
      "cell_type": "code",
      "metadata": {
        "colab": {
          "base_uri": "https://localhost:8080/"
        },
        "id": "hdsePZIk25Pa",
        "outputId": "9cf4a185-e1e8-4a5a-f6d3-8c024b67dd70"
      },
      "source": [
        "train_dataset.class_indices"
      ],
      "execution_count": null,
      "outputs": [
        {
          "output_type": "execute_result",
          "data": {
            "text/plain": [
              "{'with_mask': 0, 'without_mask': 1}"
            ]
          },
          "metadata": {
            "tags": []
          },
          "execution_count": 9
        }
      ]
    },
    {
      "cell_type": "code",
      "metadata": {
        "colab": {
          "base_uri": "https://localhost:8080/"
        },
        "id": "1RhT3KzV3U0K",
        "outputId": "fa820d2e-01f1-479e-e8a3-3e3cd3ed465f"
      },
      "source": [
        "train_dataset.classes"
      ],
      "execution_count": null,
      "outputs": [
        {
          "output_type": "execute_result",
          "data": {
            "text/plain": [
              "array([0, 0, 0, ..., 1, 1, 1], dtype=int32)"
            ]
          },
          "metadata": {
            "tags": []
          },
          "execution_count": 10
        }
      ]
    },
    {
      "cell_type": "code",
      "metadata": {
        "id": "SPOA3nGg3bdU"
      },
      "source": [
        "model=tf.keras.models.Sequential([tf.keras.layers.Conv2D(16,(3,3),activation='relu',kernel_initializer='he_uniform',input_shape=(200,200,3)),\n",
        "                                  tf.keras.layers.Conv2D(16,(3,3),activation='relu',kernel_initializer='he_uniform',input_shape=(200,200,3)),\n",
        "                                  \n",
        "                                  tf.keras.layers.MaxPool2D(2,2),\n",
        "                                  tf.keras.layers.Dropout(0.2),\n",
        "                                  \n",
        "                                  tf.keras.layers.Conv2D(32,(3,3),activation='relu',kernel_initializer='he_uniform',input_shape=(200,200,3)),\n",
        "                                  \n",
        "                                  tf.keras.layers.MaxPool2D(2,2),\n",
        "                                  tf.keras.layers.Conv2D(64,(3,3),activation='relu',kernel_initializer='he_uniform',input_shape=(200,200,3)),\n",
        "                                  \n",
        "                                  tf.keras.layers.MaxPool2D(2,2),\n",
        "                                  tf.keras.layers.Dropout(0.3),\n",
        "                                  \n",
        "                                  \n",
        "                                  \n",
        "                                  tf.keras.layers.Flatten(),\n",
        "                                  tf.keras.layers.Dropout(0.5),\n",
        "                                  tf.keras.layers.Dense(50,activation='relu'),\n",
        "                                  tf.keras.layers.BatchNormalization(),\n",
        "                                  \n",
        "                                  \n",
        "                                  tf.keras.layers.Dense(2,activation=\"softmax\")\n",
        "])"
      ],
      "execution_count": null,
      "outputs": []
    },
    {
      "cell_type": "code",
      "metadata": {
        "id": "y-4yJ2Cp5ZXD"
      },
      "source": [
        "\n",
        "1\n",
        "2\n",
        "3\n",
        "# fit model\n",
        "\n",
        "from keras.optimizers import SGD\n",
        " \n",
        "opt = SGD(lr=0.001, momentum=0.9)\n",
        "model.compile(loss='binary_crossentropy',optimizer=opt,metrics=['accuracy'])"
      ],
      "execution_count": null,
      "outputs": []
    },
    {
      "cell_type": "code",
      "metadata": {
        "id": "sWqHKkldZC5P"
      },
      "source": [
        "\n",
        "model_fit=model.fit(train_dataset,steps_per_epoch=20,epochs=100,validation_data=validation_dataset)"
      ],
      "execution_count": null,
      "outputs": []
    }
  ]
}